{
 "cells": [
  {
   "cell_type": "code",
   "execution_count": 121,
   "metadata": {},
   "outputs": [],
   "source": [
    "import pandas as pd \n",
    "import numpy as np\n",
    "\n",
    "import matplotlib.pyplot as plt\n",
    "import seaborn as sns"
   ]
  },
  {
   "cell_type": "code",
   "execution_count": 122,
   "metadata": {},
   "outputs": [],
   "source": [
    "from nltk.tokenize import word_tokenize"
   ]
  },
  {
   "cell_type": "code",
   "execution_count": 123,
   "metadata": {},
   "outputs": [],
   "source": [
    "import tensorflow as tf"
   ]
  },
  {
   "cell_type": "code",
   "execution_count": 124,
   "metadata": {},
   "outputs": [
    {
     "data": {
      "text/plain": [
       "True"
      ]
     },
     "execution_count": 124,
     "metadata": {},
     "output_type": "execute_result"
    }
   ],
   "source": [
    "tf.test.is_built_with_cuda()"
   ]
  },
  {
   "cell_type": "code",
   "execution_count": 125,
   "metadata": {},
   "outputs": [],
   "source": [
    "from sklearn.model_selection import train_test_split\n",
    "from sklearn.model_selection import KFold\n",
    "\n",
    "from sklearn.feature_extraction.text import TfidfVectorizer"
   ]
  },
  {
   "cell_type": "markdown",
   "metadata": {},
   "source": [
    "#### Eval method\n",
    "Submissions are scored using MCRMSE, mean columnwise root mean squared error."
   ]
  },
  {
   "cell_type": "code",
   "execution_count": 126,
   "metadata": {},
   "outputs": [],
   "source": [
    "TRAIN_PATH = 'data/train.csv'\n",
    "TEST_PATH = 'data/test.csv'\n",
    "SAMPLE_SUBMISSION = 'data/sample_submission.csv'\n",
    "RANDOM_STATE = 25"
   ]
  },
  {
   "cell_type": "code",
   "execution_count": 127,
   "metadata": {},
   "outputs": [],
   "source": [
    "FEATURE_COLUMNS = ['full_text']\n",
    "TARGET_COLUMNS = ['cohesion', 'syntax','vocabulary', 'phraseology', 'grammar','conventions']"
   ]
  },
  {
   "cell_type": "code",
   "execution_count": 128,
   "metadata": {},
   "outputs": [],
   "source": [
    "train = pd.read_csv(TRAIN_PATH)\n",
    "test = pd.read_csv(TEST_PATH)"
   ]
  },
  {
   "cell_type": "code",
   "execution_count": 129,
   "metadata": {},
   "outputs": [
    {
     "data": {
      "text/plain": [
       "8.321276595744681"
      ]
     },
     "execution_count": 129,
     "metadata": {},
     "output_type": "execute_result"
    }
   ],
   "source": [
    "# Chollet transformer heuristic\n",
    "# S = number of samples / mean number of words per sample\n",
    "# if S > 1500 --> Sequence model\n",
    "# else --> bag-of-bigrams\n",
    "\n",
    "tokenized_sentences = train.full_text.map(word_tokenize)\n",
    "mean_number_of_tokens = tokenized_sentences.map(len).mean().round()\n",
    "S = train.shape[0] / mean_number_of_tokens\n",
    "S"
   ]
  },
  {
   "cell_type": "code",
   "execution_count": 130,
   "metadata": {},
   "outputs": [
    {
     "data": {
      "text/plain": [
       "(3911, 8)"
      ]
     },
     "execution_count": 130,
     "metadata": {},
     "output_type": "execute_result"
    }
   ],
   "source": [
    "train.shape"
   ]
  },
  {
   "cell_type": "code",
   "execution_count": 131,
   "metadata": {},
   "outputs": [
    {
     "data": {
      "text/plain": [
       "(3, 2)"
      ]
     },
     "execution_count": 131,
     "metadata": {},
     "output_type": "execute_result"
    }
   ],
   "source": [
    "test.shape"
   ]
  },
  {
   "cell_type": "code",
   "execution_count": 132,
   "metadata": {},
   "outputs": [
    {
     "data": {
      "text/html": [
       "<div>\n",
       "<style scoped>\n",
       "    .dataframe tbody tr th:only-of-type {\n",
       "        vertical-align: middle;\n",
       "    }\n",
       "\n",
       "    .dataframe tbody tr th {\n",
       "        vertical-align: top;\n",
       "    }\n",
       "\n",
       "    .dataframe thead th {\n",
       "        text-align: right;\n",
       "    }\n",
       "</style>\n",
       "<table border=\"1\" class=\"dataframe\">\n",
       "  <thead>\n",
       "    <tr style=\"text-align: right;\">\n",
       "      <th></th>\n",
       "      <th>text_id</th>\n",
       "      <th>full_text</th>\n",
       "    </tr>\n",
       "  </thead>\n",
       "  <tbody>\n",
       "    <tr>\n",
       "      <th>0</th>\n",
       "      <td>0000C359D63E</td>\n",
       "      <td>when a person has no experience on a job their...</td>\n",
       "    </tr>\n",
       "    <tr>\n",
       "      <th>1</th>\n",
       "      <td>000BAD50D026</td>\n",
       "      <td>Do you think students would benefit from being...</td>\n",
       "    </tr>\n",
       "    <tr>\n",
       "      <th>2</th>\n",
       "      <td>00367BB2546B</td>\n",
       "      <td>Thomas Jefferson once states that \"it is wonde...</td>\n",
       "    </tr>\n",
       "  </tbody>\n",
       "</table>\n",
       "</div>"
      ],
      "text/plain": [
       "        text_id                                          full_text\n",
       "0  0000C359D63E  when a person has no experience on a job their...\n",
       "1  000BAD50D026  Do you think students would benefit from being...\n",
       "2  00367BB2546B  Thomas Jefferson once states that \"it is wonde..."
      ]
     },
     "execution_count": 132,
     "metadata": {},
     "output_type": "execute_result"
    }
   ],
   "source": [
    "test.head()"
   ]
  },
  {
   "cell_type": "code",
   "execution_count": 203,
   "metadata": {},
   "outputs": [
    {
     "data": {
      "text/plain": [
       "((3128, 1), (587, 1), (196, 1), (3128, 6), (587, 6), (196, 6))"
      ]
     },
     "execution_count": 203,
     "metadata": {},
     "output_type": "execute_result"
    }
   ],
   "source": [
    "X, Y = train[FEATURE_COLUMNS], train[TARGET_COLUMNS]\n",
    "X_train, X_test, Y_train, Y_test = train_test_split(X, Y, test_size=.2)\n",
    "\n",
    "X_valid, X_test, Y_valid, Y_test = train_test_split(X_test, Y_test, test_size=.25)\n",
    "\n",
    "X_train.shape, X_valid.shape, X_test.shape, Y_train.shape, Y_valid.shape, Y_test.shape"
   ]
  },
  {
   "cell_type": "code",
   "execution_count": 204,
   "metadata": {},
   "outputs": [],
   "source": [
    "def MCRMSE(y_true, y_pred):\n",
    "    colwise_mse = tf.reduce_mean(tf.square(y_true - y_pred), axis=0)\n",
    "    return tf.reduce_mean(tf.sqrt(colwise_mse), axis=0)"
   ]
  },
  {
   "cell_type": "code",
   "execution_count": 205,
   "metadata": {},
   "outputs": [],
   "source": [
    "max_tokens = 25_000\n",
    "max_length = 1000"
   ]
  },
  {
   "cell_type": "code",
   "execution_count": 206,
   "metadata": {},
   "outputs": [],
   "source": [
    "vectorizer = tf.keras.layers.TextVectorization(\n",
    "    max_tokens = max_tokens,\n",
    "    output_mode = 'int',\n",
    "    output_sequence_length = max_length\n",
    ")"
   ]
  },
  {
   "cell_type": "code",
   "execution_count": 207,
   "metadata": {},
   "outputs": [],
   "source": [
    "vectorizer.adapt(X_train)"
   ]
  },
  {
   "cell_type": "code",
   "execution_count": 208,
   "metadata": {},
   "outputs": [],
   "source": [
    "vectorized_train = vectorizer(X_train)\n",
    "vectorized_valid = vectorizer(X_valid)\n",
    "vectorized_test = vectorizer(X_test)"
   ]
  },
  {
   "cell_type": "code",
   "execution_count": 209,
   "metadata": {},
   "outputs": [
    {
     "data": {
      "text/plain": [
       "(TensorShape([3128, 1000]), TensorShape([196, 1000]))"
      ]
     },
     "execution_count": 209,
     "metadata": {},
     "output_type": "execute_result"
    }
   ],
   "source": [
    "vectorized_train.shape, vectorized_test.shape"
   ]
  },
  {
   "cell_type": "code",
   "execution_count": 292,
   "metadata": {},
   "outputs": [],
   "source": [
    "# inputs: A 3D tensor, with shape [batch, timesteps, feature].\n",
    "model = tf.keras.models.Sequential([\n",
    "    tf.keras.layers.Input(shape = (None, )),\n",
    "    tf.keras.layers.Embedding(input_dim = max_tokens, output_dim = 256),\n",
    "    tf.keras.layers.Bidirectional(tf.keras.layers.GRU(units = 64)),\n",
    "    \n",
    "    tf.keras.layers.Dropout(.5),\n",
    "    tf.keras.layers.Dense(6)\n",
    "])"
   ]
  },
  {
   "cell_type": "code",
   "execution_count": 293,
   "metadata": {},
   "outputs": [
    {
     "name": "stderr",
     "output_type": "stream",
     "text": [
      "/home/hdd_n/mambaforge/envs/tf_env/lib/python3.10/site-packages/keras/optimizers/optimizer_v2/adam.py:110: UserWarning: The `lr` argument is deprecated, use `learning_rate` instead.\n",
      "  super(Adam, self).__init__(name, **kwargs)\n"
     ]
    }
   ],
   "source": [
    "model.compile(loss = 'mse', metrics = 'mean_absolute_percentage_error', optimizer = tf.keras.optimizers.Adam(lr = 1e-3))"
   ]
  },
  {
   "cell_type": "code",
   "execution_count": 294,
   "metadata": {},
   "outputs": [
    {
     "name": "stdout",
     "output_type": "stream",
     "text": [
      "Model: \"sequential_24\"\n",
      "_________________________________________________________________\n",
      " Layer (type)                Output Shape              Param #   \n",
      "=================================================================\n",
      " embedding_10 (Embedding)    (None, None, 256)         6400000   \n",
      "                                                                 \n",
      " bidirectional_13 (Bidirecti  (None, 128)              123648    \n",
      " onal)                                                           \n",
      "                                                                 \n",
      " dropout_6 (Dropout)         (None, 128)               0         \n",
      "                                                                 \n",
      " dense_24 (Dense)            (None, 6)                 774       \n",
      "                                                                 \n",
      "=================================================================\n",
      "Total params: 6,524,422\n",
      "Trainable params: 6,524,422\n",
      "Non-trainable params: 0\n",
      "_________________________________________________________________\n"
     ]
    }
   ],
   "source": [
    "model.summary()"
   ]
  },
  {
   "cell_type": "code",
   "execution_count": 295,
   "metadata": {},
   "outputs": [],
   "source": [
    "callbacks = [\n",
    "    tf.keras.callbacks.ModelCheckpoint(\"embeddings_scratch.keras\", save_best_only=True), \n",
    "    # tf.keras.callbacks.EarlyStopping(\n",
    "    #     monitor='val_loss',\n",
    "    #     patience = 10)\n",
    "]"
   ]
  },
  {
   "cell_type": "code",
   "execution_count": 296,
   "metadata": {},
   "outputs": [
    {
     "name": "stdout",
     "output_type": "stream",
     "text": [
      "Epoch 1/20\n",
      "98/98 [==============================] - 6s 55ms/step - loss: 2.1088 - mean_absolute_percentage_error: 36.6918 - val_loss: 0.5024 - val_mean_absolute_percentage_error: 17.9344\n",
      "Epoch 2/20\n",
      "98/98 [==============================] - 5s 53ms/step - loss: 0.6426 - mean_absolute_percentage_error: 21.6825 - val_loss: 0.4332 - val_mean_absolute_percentage_error: 17.3861\n",
      "Epoch 3/20\n",
      "98/98 [==============================] - 5s 51ms/step - loss: 0.5177 - mean_absolute_percentage_error: 19.5143 - val_loss: 0.4078 - val_mean_absolute_percentage_error: 17.4480\n",
      "Epoch 4/20\n",
      "98/98 [==============================] - 5s 52ms/step - loss: 0.4601 - mean_absolute_percentage_error: 18.3353 - val_loss: 0.4202 - val_mean_absolute_percentage_error: 18.8851\n",
      "Epoch 5/20\n",
      "98/98 [==============================] - 5s 52ms/step - loss: 0.4139 - mean_absolute_percentage_error: 17.3259 - val_loss: 0.3934 - val_mean_absolute_percentage_error: 16.9722\n",
      "Epoch 6/20\n",
      "98/98 [==============================] - 5s 53ms/step - loss: 0.3510 - mean_absolute_percentage_error: 15.9561 - val_loss: 0.3864 - val_mean_absolute_percentage_error: 16.9820\n",
      "Epoch 7/20\n",
      "98/98 [==============================] - 5s 53ms/step - loss: 0.3284 - mean_absolute_percentage_error: 15.4467 - val_loss: 0.4191 - val_mean_absolute_percentage_error: 16.7902\n",
      "Epoch 8/20\n",
      "98/98 [==============================] - 5s 51ms/step - loss: 0.3053 - mean_absolute_percentage_error: 14.8538 - val_loss: 0.3946 - val_mean_absolute_percentage_error: 16.5978\n",
      "Epoch 9/20\n",
      "98/98 [==============================] - 5s 52ms/step - loss: 0.2882 - mean_absolute_percentage_error: 14.4502 - val_loss: 0.4482 - val_mean_absolute_percentage_error: 17.0338\n",
      "Epoch 10/20\n",
      "98/98 [==============================] - 5s 53ms/step - loss: 0.2737 - mean_absolute_percentage_error: 14.0809 - val_loss: 0.3785 - val_mean_absolute_percentage_error: 17.2896\n",
      "Epoch 11/20\n",
      "98/98 [==============================] - 5s 50ms/step - loss: 0.2574 - mean_absolute_percentage_error: 13.6620 - val_loss: 0.3851 - val_mean_absolute_percentage_error: 17.0835\n",
      "Epoch 12/20\n",
      "98/98 [==============================] - 5s 52ms/step - loss: 0.2535 - mean_absolute_percentage_error: 13.5131 - val_loss: 0.3851 - val_mean_absolute_percentage_error: 16.8773\n",
      "Epoch 13/20\n",
      "98/98 [==============================] - 5s 53ms/step - loss: 0.2385 - mean_absolute_percentage_error: 13.1114 - val_loss: 0.3737 - val_mean_absolute_percentage_error: 16.6366\n",
      "Epoch 14/20\n",
      "98/98 [==============================] - 5s 50ms/step - loss: 0.2357 - mean_absolute_percentage_error: 13.0813 - val_loss: 0.3903 - val_mean_absolute_percentage_error: 16.8157\n",
      "Epoch 15/20\n",
      "98/98 [==============================] - 5s 47ms/step - loss: 0.2369 - mean_absolute_percentage_error: 13.0545 - val_loss: 0.3918 - val_mean_absolute_percentage_error: 17.2595\n",
      "Epoch 16/20\n",
      "98/98 [==============================] - 5s 47ms/step - loss: 0.2338 - mean_absolute_percentage_error: 12.9562 - val_loss: 0.4021 - val_mean_absolute_percentage_error: 16.9004\n",
      "Epoch 17/20\n",
      "98/98 [==============================] - 5s 52ms/step - loss: 0.2154 - mean_absolute_percentage_error: 12.4612 - val_loss: 0.3887 - val_mean_absolute_percentage_error: 17.1018\n",
      "Epoch 18/20\n",
      "98/98 [==============================] - 5s 52ms/step - loss: 0.2241 - mean_absolute_percentage_error: 12.7336 - val_loss: 0.3999 - val_mean_absolute_percentage_error: 17.0015\n",
      "Epoch 19/20\n",
      "98/98 [==============================] - 5s 54ms/step - loss: 0.2161 - mean_absolute_percentage_error: 12.4839 - val_loss: 0.3938 - val_mean_absolute_percentage_error: 16.6365\n",
      "Epoch 20/20\n",
      "98/98 [==============================] - 5s 53ms/step - loss: 0.2073 - mean_absolute_percentage_error: 12.2794 - val_loss: 0.4136 - val_mean_absolute_percentage_error: 18.1889\n"
     ]
    }
   ],
   "source": [
    "history = model.fit(\n",
    "    x = vectorized_train, \n",
    "    y = Y_train, \n",
    "    validation_data = (vectorized_valid, Y_valid),\n",
    "    callbacks = callbacks,\n",
    "    epochs = 20)"
   ]
  },
  {
   "cell_type": "code",
   "execution_count": 297,
   "metadata": {},
   "outputs": [
    {
     "data": {
      "image/png": "[encoded data removed]",
      "text/plain": [
       "<Figure size 1080x720 with 1 Axes>"
      ]
     },
     "metadata": {
      "needs_background": "light"
     },
     "output_type": "display_data"
    }
   ],
   "source": [
    "plt.figure(figsize=(15,10))\n",
    "plt.plot(history.history['loss'], label = 'train_loss')\n",
    "plt.plot(history.history['val_loss'], label = 'val_loss')\n",
    "plt.box(False)\n",
    "plt.grid(True, alpha = .25)\n",
    "plt.legend()\n",
    "plt.show()"
   ]
  },
  {
   "cell_type": "code",
   "execution_count": 298,
   "metadata": {},
   "outputs": [
    {
     "data": {
      "image/png": "[encoded data removed]",
      "text/plain": [
       "<Figure size 1080x720 with 1 Axes>"
      ]
     },
     "metadata": {
      "needs_background": "light"
     },
     "output_type": "display_data"
    }
   ],
   "source": [
    "plt.figure(figsize=(15,10))\n",
    "plt.plot(history.history['mean_absolute_percentage_error'], label = 'train_mape')\n",
    "plt.plot(history.history['val_mean_absolute_percentage_error'], label = 'val_mape')\n",
    "plt.box(False)\n",
    "plt.grid(True, alpha = .25)\n",
    "plt.legend()\n",
    "plt.show()"
   ]
  },
  {
   "cell_type": "code",
   "execution_count": 289,
   "metadata": {},
   "outputs": [
    {
     "name": "stdout",
     "output_type": "stream",
     "text": [
      "7/7 [==============================] - 0s 22ms/step - loss: 0.4311 - mean_absolute_percentage_error: 17.7972\n"
     ]
    },
    {
     "data": {
      "text/plain": [
       "[0.43114906549453735, 17.79724884033203]"
      ]
     },
     "execution_count": 289,
     "metadata": {},
     "output_type": "execute_result"
    }
   ],
   "source": [
    "eval = model.evaluate(vectorized_test, Y_test)\n",
    "eval"
   ]
  },
  {
   "cell_type": "code",
   "execution_count": 263,
   "metadata": {},
   "outputs": [
    {
     "name": "stdout",
     "output_type": "stream",
     "text": [
      "7/7 [==============================] - 0s 19ms/step\n"
     ]
    }
   ],
   "source": [
    "y_pred = model.predict(vectorized_test)"
   ]
  },
  {
   "cell_type": "code",
   "execution_count": 272,
   "metadata": {},
   "outputs": [
    {
     "data": {
      "text/plain": [
       "(TensorShape([196, 6]), (196, 6))"
      ]
     },
     "execution_count": 272,
     "metadata": {},
     "output_type": "execute_result"
    }
   ],
   "source": [
    "y_true.shape, y_pred.shape"
   ]
  },
  {
   "cell_type": "code",
   "execution_count": null,
   "metadata": {},
   "outputs": [],
   "source": []
  },
  {
   "cell_type": "code",
   "execution_count": 299,
   "metadata": {},
   "outputs": [],
   "source": [
    "def mcrmse(y_true, y_pred):\n",
    "    colwise_mse = tf.reduce_mean(tf.square(y_true - y_pred), axis=0)\n",
    "    return tf.reduce_mean(tf.sqrt(colwise_mse), axis=0)"
   ]
  },
  {
   "cell_type": "code",
   "execution_count": 300,
   "metadata": {},
   "outputs": [
    {
     "data": {
      "text/plain": [
       "<tf.Tensor: shape=(), dtype=float64, numpy=0.6928085952557228>"
      ]
     },
     "execution_count": 300,
     "metadata": {},
     "output_type": "execute_result"
    }
   ],
   "source": [
    "mcrmse(y_true, y_pred)"
   ]
  },
  {
   "cell_type": "code",
   "execution_count": null,
   "metadata": {},
   "outputs": [],
   "source": []
  }
 ],
 "metadata": {
  "kernelspec": {
   "display_name": "Python 3.9.7 ('experimental')",
   "language": "python",
   "name": "python3"
  },
  "language_info": {
   "codemirror_mode": {
    "name": "ipython",
    "version": 3
   },
   "file_extension": ".py",
   "mimetype": "text/x-python",
   "name": "python",
   "nbconvert_exporter": "python",
   "pygments_lexer": "ipython3",
   "version": "3.9.7"
  },
  "orig_nbformat": 4,
  "vscode": {
   "interpreter": {
    "hash": "758258b5e8b45ec9f5b1e8a0f832f1f98ad6752149e10d5e95f53d93cab8a1dc"
   }
  }
 },
 "nbformat": 4,
 "nbformat_minor": 2
}
